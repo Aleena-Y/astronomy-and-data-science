{
  "nbformat": 4,
  "nbformat_minor": 0,
  "metadata": {
    "colab": {
      "provenance": []
    },
    "kernelspec": {
      "name": "python3",
      "display_name": "Python 3"
    },
    "language_info": {
      "name": "python"
    }
  },
  "cells": [
    {
      "cell_type": "markdown",
      "source": [
        "***Testing pipeline on unseen data***"
      ],
      "metadata": {
        "id": "le4ePG3xKYfY"
      }
    },
    {
      "cell_type": "code",
      "source": [
        "import joblib\n",
        "pipeline = joblib.load('/content/pipeline(new).joblib')"
      ],
      "metadata": {
        "id": "7meRqsGjQu0W"
      },
      "execution_count": null,
      "outputs": []
    },
    {
      "cell_type": "code",
      "source": [
        "import pandas as pd\n",
        "X_test = pd.read_csv('/content/unseenx.csv')\n",
        "y_test = pd.read_csv('/content/unseeny.csv')"
      ],
      "metadata": {
        "id": "8YnYGDa8caxn"
      },
      "execution_count": null,
      "outputs": []
    },
    {
      "cell_type": "code",
      "source": [
        "y_test.drop(columns=y_test.columns[0], axis=1,  inplace=True)"
      ],
      "metadata": {
        "id": "lo_yk-LTdmOD"
      },
      "execution_count": null,
      "outputs": []
    },
    {
      "cell_type": "code",
      "source": [
        "import tensorflow as tf\n",
        "from sklearn.model_selection import StratifiedKFold, train_test_split\n",
        "from sklearn.preprocessing import StandardScaler\n",
        "from tensorflow.keras import regularizers, optimizers\n",
        "from sklearn.metrics import f1_score, classification_report, confusion_matrix\n",
        "from imblearn.over_sampling import ADASYN\n",
        "from imblearn.pipeline import Pipeline\n",
        "from sklearn.base import clone\n",
        "import seaborn as sb\n",
        "import matplotlib.pyplot as plt\n",
        "import numpy as np\n",
        "import seaborn as sb\n",
        "import pandas as pd"
      ],
      "metadata": {
        "id": "JbWPPVw2c2X5"
      },
      "execution_count": null,
      "outputs": []
    },
    {
      "cell_type": "code",
      "execution_count": null,
      "metadata": {
        "colab": {
          "base_uri": "https://localhost:8080/",
          "height": 848
        },
        "id": "nQhEhnXmQpHv",
        "outputId": "a41a5455-c50e-4b83-ccae-a0cbd93dd9fc"
      },
      "outputs": [
        {
          "output_type": "stream",
          "name": "stdout",
          "text": [
            "Epoch 1/3\n",
            "465/465 [==============================] - 4s 9ms/step - loss: 0.3631 - accuracy: 0.8586 - val_loss: 0.3336 - val_accuracy: 0.9903\n",
            "Epoch 2/3\n",
            "465/465 [==============================] - 3s 6ms/step - loss: 0.3614 - accuracy: 0.8594 - val_loss: 0.3008 - val_accuracy: 0.9867\n",
            "Epoch 3/3\n",
            "465/465 [==============================] - 1s 3ms/step - loss: 0.3612 - accuracy: 0.8596 - val_loss: 0.3454 - val_accuracy: 0.9897\n",
            "284/284 [==============================] - 0s 1ms/step\n",
            "Class distribution in oversampled testing data:\n",
            "hazardous\n",
            "0            8200\n",
            "1             884\n",
            "dtype: int64\n",
            " Classification Report:\n",
            "              precision    recall  f1-score   support\n",
            "\n",
            "           0       0.99      0.78      0.87      8200\n",
            "           1       0.32      0.96      0.48       884\n",
            "\n",
            "    accuracy                           0.80      9084\n",
            "   macro avg       0.66      0.87      0.68      9084\n",
            "weighted avg       0.93      0.80      0.84      9084\n",
            "\n",
            "testing CM:\n"
          ]
        },
        {
          "output_type": "display_data",
          "data": {
            "text/plain": [
              "<Figure size 640x480 with 1 Axes>"
            ],
            "image/png": "[encoded data removed]"
          },
          "metadata": {}
        }
      ],
      "source": [
        "# Fit the pipeline on the training data\n",
        "pipeline.fit(X_test, y_test, model__epochs=3, model__batch_size=32, model__validation_split=0.1, model__verbose=1)\n",
        "\n",
        "# Predictions on training set\n",
        "y_test_pred_proba = pipeline.predict(X_test)\n",
        "y_test_pred = (y_test_pred_proba > 0.7).astype(int)\n",
        "test_f1 = f1_score(y_test, y_test_pred)\n",
        "\n",
        "# Print class distribution within each fold\n",
        "print(f'Class distribution in oversampled testing data:')\n",
        "print(y_test.value_counts())\n",
        "\n",
        "\n",
        "print(f' Classification Report:')\n",
        "fold_report = classification_report(y_test, y_test_pred)\n",
        "print(fold_report)\n",
        "\n",
        "# Plot confusion matrix\n",
        "print(\"testing CM:\")\n",
        "cm = confusion_matrix(y_test, y_test_pred)\n",
        "sb.heatmap(cm, annot=True, fmt='d', cbar=False,\n",
        "               xticklabels=['Not Hazardous', 'Hazardous'], yticklabels=['Not Hazardous', 'Hazardous'])\n",
        "plt.xlabel('Predicted')\n",
        "plt.ylabel('Actual')\n",
        "plt.show()"
      ]
    }
  ]
}